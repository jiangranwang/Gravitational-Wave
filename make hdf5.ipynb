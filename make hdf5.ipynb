{
 "cells": [
  {
   "cell_type": "code",
   "execution_count": 1,
   "metadata": {},
   "outputs": [],
   "source": [
    "from pydub import AudioSegment\n",
    "from pydub.utils import mediainfo\n",
    "from glob import glob\n",
    "import h5py\n",
    "import numpy as np\n",
    "import os"
   ]
  },
  {
   "cell_type": "code",
   "execution_count": 6,
   "metadata": {},
   "outputs": [],
   "source": [
    "dirs = glob('../fma_small/*')\n",
    "#dirs = dirs[:2]\n",
    "dirs = [str(dirs[i]) + str('/*.mp3') for i in range(len(dirs))]\n",
    "dirs = [glob(dirs[i]) for i in range(len(dirs))]\n",
    "path = []\n",
    "for i in range(len(dirs)):\n",
    "    path += dirs[i]"
   ]
  },
  {
   "cell_type": "code",
   "execution_count": 9,
   "metadata": {},
   "outputs": [
    {
     "data": {
      "text/plain": [
       "8000"
      ]
     },
     "execution_count": 9,
     "metadata": {},
     "output_type": "execute_result"
    }
   ],
   "source": [
    "len(path)"
   ]
  },
  {
   "cell_type": "code",
   "execution_count": 10,
   "metadata": {},
   "outputs": [],
   "source": [
    "file = h5py.File(\"whole.hdf5\", \"w\")"
   ]
  },
  {
   "cell_type": "code",
   "execution_count": 11,
   "metadata": {},
   "outputs": [
    {
     "name": "stdout",
     "output_type": "stream",
     "text": [
      "current song num: /2num music: 0\n",
      "current song num: /5num music: 1\n",
      "current song num: /10num music: 2\n",
      "current song num: /140num music: 3\n",
      "current song num: /141num music: 4\n",
      "current song num: /148num music: 5\n"
     ]
    },
    {
     "ename": "KeyboardInterrupt",
     "evalue": "",
     "output_type": "error",
     "traceback": [
      "\u001b[0;31m---------------------------------------------------------------------------\u001b[0m",
      "\u001b[0;31mKeyboardInterrupt\u001b[0m                         Traceback (most recent call last)",
      "\u001b[0;32m<ipython-input-11-6b6a66531c93>\u001b[0m in \u001b[0;36m<module>\u001b[0;34m\u001b[0m\n\u001b[1;32m      4\u001b[0m \u001b[0;32mfor\u001b[0m \u001b[0mi\u001b[0m \u001b[0;32min\u001b[0m \u001b[0mrange\u001b[0m\u001b[0;34m(\u001b[0m\u001b[0mlen\u001b[0m\u001b[0;34m(\u001b[0m\u001b[0mpath\u001b[0m\u001b[0;34m)\u001b[0m\u001b[0;34m)\u001b[0m\u001b[0;34m:\u001b[0m\u001b[0;34m\u001b[0m\u001b[0;34m\u001b[0m\u001b[0m\n\u001b[1;32m      5\u001b[0m     \u001b[0mlabel\u001b[0m \u001b[0;34m=\u001b[0m \u001b[0mint\u001b[0m\u001b[0;34m(\u001b[0m\u001b[0mpath\u001b[0m\u001b[0;34m[\u001b[0m\u001b[0mi\u001b[0m\u001b[0;34m]\u001b[0m\u001b[0;34m[\u001b[0m\u001b[0;36m17\u001b[0m\u001b[0;34m:\u001b[0m\u001b[0;36m23\u001b[0m\u001b[0;34m]\u001b[0m\u001b[0;34m)\u001b[0m\u001b[0;34m\u001b[0m\u001b[0;34m\u001b[0m\u001b[0m\n\u001b[0;32m----> 6\u001b[0;31m     \u001b[0mmusic\u001b[0m \u001b[0;34m=\u001b[0m \u001b[0mAudioSegment\u001b[0m\u001b[0;34m.\u001b[0m\u001b[0mfrom_file\u001b[0m\u001b[0;34m(\u001b[0m\u001b[0mpath\u001b[0m\u001b[0;34m[\u001b[0m\u001b[0mi\u001b[0m\u001b[0;34m]\u001b[0m\u001b[0;34m)\u001b[0m\u001b[0;34m\u001b[0m\u001b[0;34m\u001b[0m\u001b[0m\n\u001b[0m\u001b[1;32m      7\u001b[0m     \u001b[0mtemp\u001b[0m \u001b[0;34m=\u001b[0m \u001b[0mnp\u001b[0m\u001b[0;34m.\u001b[0m\u001b[0marray\u001b[0m\u001b[0;34m(\u001b[0m\u001b[0mmusic\u001b[0m\u001b[0;34m.\u001b[0m\u001b[0mget_array_of_samples\u001b[0m\u001b[0;34m(\u001b[0m\u001b[0;34m)\u001b[0m\u001b[0;34m)\u001b[0m\u001b[0;34m\u001b[0m\u001b[0;34m\u001b[0m\u001b[0m\n\u001b[1;32m      8\u001b[0m \u001b[0;34m\u001b[0m\u001b[0m\n",
      "\u001b[0;32m~/.local/lib/python3.6/site-packages/pydub/audio_segment.py\u001b[0m in \u001b[0;36mfrom_file\u001b[0;34m(cls, file, format, codec, parameters, **kwargs)\u001b[0m\n\u001b[1;32m    696\u001b[0m         p = subprocess.Popen(conversion_command, stdin=stdin_parameter,\n\u001b[1;32m    697\u001b[0m                              stdout=subprocess.PIPE, stderr=subprocess.PIPE)\n\u001b[0;32m--> 698\u001b[0;31m         \u001b[0mp_out\u001b[0m\u001b[0;34m,\u001b[0m \u001b[0mp_err\u001b[0m \u001b[0;34m=\u001b[0m \u001b[0mp\u001b[0m\u001b[0;34m.\u001b[0m\u001b[0mcommunicate\u001b[0m\u001b[0;34m(\u001b[0m\u001b[0minput\u001b[0m\u001b[0;34m=\u001b[0m\u001b[0mstdin_data\u001b[0m\u001b[0;34m)\u001b[0m\u001b[0;34m\u001b[0m\u001b[0;34m\u001b[0m\u001b[0m\n\u001b[0m\u001b[1;32m    699\u001b[0m \u001b[0;34m\u001b[0m\u001b[0m\n\u001b[1;32m    700\u001b[0m         \u001b[0;32mif\u001b[0m \u001b[0mp\u001b[0m\u001b[0;34m.\u001b[0m\u001b[0mreturncode\u001b[0m \u001b[0;34m!=\u001b[0m \u001b[0;36m0\u001b[0m \u001b[0;32mor\u001b[0m \u001b[0mlen\u001b[0m\u001b[0;34m(\u001b[0m\u001b[0mp_out\u001b[0m\u001b[0;34m)\u001b[0m \u001b[0;34m==\u001b[0m \u001b[0;36m0\u001b[0m\u001b[0;34m:\u001b[0m\u001b[0;34m\u001b[0m\u001b[0;34m\u001b[0m\u001b[0m\n",
      "\u001b[0;32m/opt/apps/anaconda3/envs/powerai_env/lib/python3.6/subprocess.py\u001b[0m in \u001b[0;36mcommunicate\u001b[0;34m(self, input, timeout)\u001b[0m\n\u001b[1;32m    861\u001b[0m \u001b[0;34m\u001b[0m\u001b[0m\n\u001b[1;32m    862\u001b[0m             \u001b[0;32mtry\u001b[0m\u001b[0;34m:\u001b[0m\u001b[0;34m\u001b[0m\u001b[0;34m\u001b[0m\u001b[0m\n\u001b[0;32m--> 863\u001b[0;31m                 \u001b[0mstdout\u001b[0m\u001b[0;34m,\u001b[0m \u001b[0mstderr\u001b[0m \u001b[0;34m=\u001b[0m \u001b[0mself\u001b[0m\u001b[0;34m.\u001b[0m\u001b[0m_communicate\u001b[0m\u001b[0;34m(\u001b[0m\u001b[0minput\u001b[0m\u001b[0;34m,\u001b[0m \u001b[0mendtime\u001b[0m\u001b[0;34m,\u001b[0m \u001b[0mtimeout\u001b[0m\u001b[0;34m)\u001b[0m\u001b[0;34m\u001b[0m\u001b[0;34m\u001b[0m\u001b[0m\n\u001b[0m\u001b[1;32m    864\u001b[0m             \u001b[0;32mfinally\u001b[0m\u001b[0;34m:\u001b[0m\u001b[0;34m\u001b[0m\u001b[0;34m\u001b[0m\u001b[0m\n\u001b[1;32m    865\u001b[0m                 \u001b[0mself\u001b[0m\u001b[0;34m.\u001b[0m\u001b[0m_communication_started\u001b[0m \u001b[0;34m=\u001b[0m \u001b[0;32mTrue\u001b[0m\u001b[0;34m\u001b[0m\u001b[0;34m\u001b[0m\u001b[0m\n",
      "\u001b[0;32m/opt/apps/anaconda3/envs/powerai_env/lib/python3.6/subprocess.py\u001b[0m in \u001b[0;36m_communicate\u001b[0;34m(self, input, endtime, orig_timeout)\u001b[0m\n\u001b[1;32m   1532\u001b[0m                         \u001b[0;32mraise\u001b[0m \u001b[0mTimeoutExpired\u001b[0m\u001b[0;34m(\u001b[0m\u001b[0mself\u001b[0m\u001b[0;34m.\u001b[0m\u001b[0margs\u001b[0m\u001b[0;34m,\u001b[0m \u001b[0morig_timeout\u001b[0m\u001b[0;34m)\u001b[0m\u001b[0;34m\u001b[0m\u001b[0;34m\u001b[0m\u001b[0m\n\u001b[1;32m   1533\u001b[0m \u001b[0;34m\u001b[0m\u001b[0m\n\u001b[0;32m-> 1534\u001b[0;31m                     \u001b[0mready\u001b[0m \u001b[0;34m=\u001b[0m \u001b[0mselector\u001b[0m\u001b[0;34m.\u001b[0m\u001b[0mselect\u001b[0m\u001b[0;34m(\u001b[0m\u001b[0mtimeout\u001b[0m\u001b[0;34m)\u001b[0m\u001b[0;34m\u001b[0m\u001b[0;34m\u001b[0m\u001b[0m\n\u001b[0m\u001b[1;32m   1535\u001b[0m                     \u001b[0mself\u001b[0m\u001b[0;34m.\u001b[0m\u001b[0m_check_timeout\u001b[0m\u001b[0;34m(\u001b[0m\u001b[0mendtime\u001b[0m\u001b[0;34m,\u001b[0m \u001b[0morig_timeout\u001b[0m\u001b[0;34m)\u001b[0m\u001b[0;34m\u001b[0m\u001b[0;34m\u001b[0m\u001b[0m\n\u001b[1;32m   1536\u001b[0m \u001b[0;34m\u001b[0m\u001b[0m\n",
      "\u001b[0;32m/opt/apps/anaconda3/envs/powerai_env/lib/python3.6/selectors.py\u001b[0m in \u001b[0;36mselect\u001b[0;34m(self, timeout)\u001b[0m\n\u001b[1;32m    374\u001b[0m             \u001b[0mready\u001b[0m \u001b[0;34m=\u001b[0m \u001b[0;34m[\u001b[0m\u001b[0;34m]\u001b[0m\u001b[0;34m\u001b[0m\u001b[0;34m\u001b[0m\u001b[0m\n\u001b[1;32m    375\u001b[0m             \u001b[0;32mtry\u001b[0m\u001b[0;34m:\u001b[0m\u001b[0;34m\u001b[0m\u001b[0;34m\u001b[0m\u001b[0m\n\u001b[0;32m--> 376\u001b[0;31m                 \u001b[0mfd_event_list\u001b[0m \u001b[0;34m=\u001b[0m \u001b[0mself\u001b[0m\u001b[0;34m.\u001b[0m\u001b[0m_poll\u001b[0m\u001b[0;34m.\u001b[0m\u001b[0mpoll\u001b[0m\u001b[0;34m(\u001b[0m\u001b[0mtimeout\u001b[0m\u001b[0;34m)\u001b[0m\u001b[0;34m\u001b[0m\u001b[0;34m\u001b[0m\u001b[0m\n\u001b[0m\u001b[1;32m    377\u001b[0m             \u001b[0;32mexcept\u001b[0m \u001b[0mInterruptedError\u001b[0m\u001b[0;34m:\u001b[0m\u001b[0;34m\u001b[0m\u001b[0;34m\u001b[0m\u001b[0m\n\u001b[1;32m    378\u001b[0m                 \u001b[0;32mreturn\u001b[0m \u001b[0mready\u001b[0m\u001b[0;34m\u001b[0m\u001b[0;34m\u001b[0m\u001b[0m\n",
      "\u001b[0;31mKeyboardInterrupt\u001b[0m: "
     ]
    }
   ],
   "source": [
    "Fs = 44100\n",
    "INPUT_LEN = 30*Fs\n",
    "\n",
    "for i in range(len(path)):\n",
    "    label = int(path[i][17:23])\n",
    "    music = AudioSegment.from_file(path[i])\n",
    "    temp = np.array(music.get_array_of_samples())\n",
    "    \n",
    "    # check if the audio has two channels\n",
    "    if len(temp) > INPUT_LEN: \n",
    "        temp = [temp[i] for i in range(0,len(temp),2)] #get left channel only\n",
    "            \n",
    "    # save data\n",
    "    temp = temp/np.amax(temp)\n",
    "    dset = file.create_dataset(str(label), data=temp)\n",
    "    #print('current song num: '+str(dset.name)+'num music: '+str(i))"
   ]
  },
  {
   "cell_type": "code",
   "execution_count": 70,
   "metadata": {},
   "outputs": [
    {
     "name": "stdout",
     "output_type": "stream",
     "text": [
      "current song num: /2num music: 0\n",
      "current song num: /5num music: 1\n",
      "current song num: /10num music: 2\n",
      "current song num: /140num music: 3\n",
      "current song num: /141num music: 4\n",
      "current song num: /148num music: 5\n",
      "current song num: /182num music: 6\n",
      "current song num: /190num music: 7\n",
      "current song num: /193num music: 8\n",
      "current song num: /194num music: 9\n",
      "current song num: /197num music: 10\n",
      "current song num: /200num music: 11\n",
      "current song num: /203num music: 12\n",
      "current song num: /204num music: 13\n",
      "current song num: /207num music: 14\n",
      "current song num: /210num music: 15\n",
      "current song num: /211num music: 16\n",
      "current song num: /212num music: 17\n",
      "current song num: /213num music: 18\n",
      "current song num: /255num music: 19\n",
      "current song num: /256num music: 20\n",
      "current song num: /368num music: 21\n",
      "current song num: /424num music: 22\n",
      "current song num: /459num music: 23\n",
      "current song num: /534num music: 24\n",
      "current song num: /540num music: 25\n",
      "current song num: /546num music: 26\n",
      "current song num: /574num music: 27\n",
      "current song num: /602num music: 28\n",
      "current song num: /615num music: 29\n",
      "current song num: /620num music: 30\n",
      "current song num: /621num music: 31\n",
      "current song num: /625num music: 32\n",
      "current song num: /666num music: 33\n",
      "current song num: /667num music: 34\n",
      "current song num: /676num music: 35\n",
      "current song num: /690num music: 36\n",
      "current song num: /694num music: 37\n",
      "current song num: /695num music: 38\n",
      "current song num: /704num music: 39\n",
      "current song num: /705num music: 40\n",
      "current song num: /706num music: 41\n",
      "current song num: /707num music: 42\n",
      "current song num: /708num music: 43\n",
      "current song num: /709num music: 44\n",
      "current song num: /714num music: 45\n",
      "current song num: /715num music: 46\n",
      "current song num: /716num music: 47\n",
      "current song num: /718num music: 48\n",
      "current song num: /777num music: 49\n",
      "current song num: /814num music: 50\n",
      "current song num: /821num music: 51\n",
      "current song num: /822num music: 52\n",
      "current song num: /825num music: 53\n",
      "current song num: /853num music: 54\n",
      "current song num: /890num music: 55\n",
      "current song num: /892num music: 56\n",
      "current song num: /897num music: 57\n",
      "current song num: /993num music: 58\n",
      "current song num: /995num music: 59\n",
      "current song num: /997num music: 60\n",
      "current song num: /998num music: 61\n",
      "current song num: /1039num music: 62\n",
      "current song num: /1040num music: 63\n",
      "current song num: /1066num music: 64\n",
      "current song num: /1069num music: 65\n",
      "current song num: /1073num music: 66\n",
      "current song num: /1075num music: 67\n",
      "current song num: /1082num music: 68\n",
      "current song num: /1083num music: 69\n",
      "current song num: /1087num music: 70\n",
      "current song num: /1102num music: 71\n",
      "current song num: /1193num music: 72\n",
      "current song num: /1195num music: 73\n",
      "current song num: /1196num music: 74\n",
      "current song num: /1197num music: 75\n",
      "current song num: /1249num music: 76\n",
      "current song num: /1259num music: 77\n",
      "current song num: /1270num music: 78\n",
      "current song num: /1276num music: 79\n",
      "current song num: /1277num music: 80\n",
      "current song num: /1278num music: 81\n",
      "current song num: /1417num music: 82\n",
      "current song num: /1427num music: 83\n",
      "current song num: /1443num music: 84\n",
      "current song num: /1482num music: 85\n",
      "current song num: /1510num music: 86\n",
      "current song num: /1544num music: 87\n",
      "current song num: /1642num music: 88\n",
      "current song num: /1644num music: 89\n",
      "current song num: /1649num music: 90\n",
      "current song num: /1661num music: 91\n",
      "current song num: /1663num music: 92\n",
      "current song num: /1666num music: 93\n",
      "current song num: /1673num music: 94\n",
      "current song num: /1680num music: 95\n",
      "current song num: /1681num music: 96\n",
      "current song num: /1682num music: 97\n",
      "current song num: /1683num music: 98\n",
      "current song num: /1684num music: 99\n",
      "current song num: /1685num music: 100\n",
      "current song num: /1686num music: 101\n",
      "current song num: /1687num music: 102\n",
      "current song num: /1688num music: 103\n",
      "current song num: /1689num music: 104\n",
      "current song num: /1701num music: 105\n",
      "current song num: /1702num music: 106\n",
      "current song num: /1703num music: 107\n",
      "current song num: /1704num music: 108\n",
      "current song num: /1706num music: 109\n",
      "current song num: /1720num music: 110\n",
      "current song num: /1732num music: 111\n",
      "current song num: /1733num music: 112\n",
      "current song num: /1735num music: 113\n",
      "current song num: /1736num music: 114\n",
      "current song num: /1883num music: 115\n",
      "current song num: /1891num music: 116\n",
      "current song num: /1893num music: 117\n",
      "current song num: /1924num music: 118\n",
      "current song num: /1925num music: 119\n",
      "current song num: /1929num music: 120\n",
      "current song num: /1930num music: 121\n"
     ]
    }
   ],
   "source": [
    "Fs = 44100\n",
    "LENGTH = int(1.5*Fs)\n",
    "INPUT_LEN = 30*Fs\n",
    "INTERVAL = int(0.05*Fs) #in seconds, determines how many fingerprints each song will generate\n",
    "\n",
    "for i in range(len(path)):\n",
    "    label = int(path[i][17:23])\n",
    "    music = AudioSegment.from_file(path[i])\n",
    "    temp = np.array(music.get_array_of_samples())\n",
    "    \n",
    "    # check if the audio has two channels\n",
    "    if len(temp) > INPUT_LEN: \n",
    "        temp = [temp[i] for i in range(0,len(temp),2)] #get left channel only\n",
    "            \n",
    "    # convert to fingerprints\n",
    "    cur_data = []\n",
    "    num_fp = int((len(temp)-LENGTH)/INTERVAL)+1\n",
    "    for j in range(num_fp):\n",
    "        segment = temp[j*INTERVAL:j*INTERVAL+LENGTH]\n",
    "        segment = np.asarray(segment)          \n",
    "        cur_data.append(segment)\n",
    "        \n",
    "    cur_data = np.asarray(cur_data)\n",
    "    cur_data = cur_data.astype(np.float32)\n",
    "    cur_data = cur_data/np.amax(cur_data)\n",
    "    dset = file.create_dataset(str(label), data=cur_data)\n",
    "    print('current song num: '+str(dset.name)+'num music: '+str(i))\n",
    "    "
   ]
  },
  {
   "cell_type": "code",
   "execution_count": 71,
   "metadata": {
    "collapsed": true
   },
   "outputs": [],
   "source": [
    "file.close()"
   ]
  },
  {
   "cell_type": "code",
   "execution_count": 67,
   "metadata": {},
   "outputs": [
    {
     "name": "stdout",
     "output_type": "stream",
     "text": [
      "<HDF5 dataset \"10\": shape (570, 66150), type \"<f4\">\n",
      "<HDF5 dataset \"140\": shape (570, 66150), type \"<f4\">\n",
      "<HDF5 dataset \"141\": shape (570, 66150), type \"<f4\">\n",
      "<HDF5 dataset \"148\": shape (570, 66150), type \"<f4\">\n",
      "<HDF5 dataset \"182\": shape (571, 66150), type \"<f4\">\n",
      "<HDF5 dataset \"190\": shape (571, 66150), type \"<f4\">\n",
      "<HDF5 dataset \"193\": shape (570, 66150), type \"<f4\">\n",
      "<HDF5 dataset \"194\": shape (571, 66150), type \"<f4\">\n",
      "<HDF5 dataset \"197\": shape (570, 66150), type \"<f4\">\n",
      "<HDF5 dataset \"2\": shape (570, 66150), type \"<f4\">\n",
      "<HDF5 dataset \"200\": shape (570, 66150), type \"<f4\">\n",
      "<HDF5 dataset \"203\": shape (570, 66150), type \"<f4\">\n",
      "<HDF5 dataset \"204\": shape (570, 66150), type \"<f4\">\n",
      "<HDF5 dataset \"207\": shape (570, 66150), type \"<f4\">\n",
      "<HDF5 dataset \"210\": shape (571, 66150), type \"<f4\">\n",
      "<HDF5 dataset \"211\": shape (570, 66150), type \"<f4\">\n",
      "<HDF5 dataset \"212\": shape (570, 66150), type \"<f4\">\n",
      "<HDF5 dataset \"213\": shape (570, 66150), type \"<f4\">\n",
      "<HDF5 dataset \"255\": shape (570, 66150), type \"<f4\">\n",
      "<HDF5 dataset \"256\": shape (570, 66150), type \"<f4\">\n",
      "<HDF5 dataset \"368\": shape (570, 66150), type \"<f4\">\n",
      "<HDF5 dataset \"424\": shape (570, 66150), type \"<f4\">\n",
      "<HDF5 dataset \"459\": shape (571, 66150), type \"<f4\">\n",
      "<HDF5 dataset \"5\": shape (571, 66150), type \"<f4\">\n",
      "<HDF5 dataset \"534\": shape (570, 66150), type \"<f4\">\n",
      "<HDF5 dataset \"540\": shape (570, 66150), type \"<f4\">\n",
      "<HDF5 dataset \"546\": shape (570, 66150), type \"<f4\">\n",
      "<HDF5 dataset \"574\": shape (570, 66150), type \"<f4\">\n",
      "<HDF5 dataset \"602\": shape (570, 66150), type \"<f4\">\n",
      "<HDF5 dataset \"615\": shape (571, 66150), type \"<f4\">\n",
      "<HDF5 dataset \"620\": shape (570, 66150), type \"<f4\">\n",
      "<HDF5 dataset \"621\": shape (570, 66150), type \"<f4\">\n",
      "<HDF5 dataset \"625\": shape (571, 66150), type \"<f4\">\n",
      "<HDF5 dataset \"666\": shape (271, 66150), type \"<f4\">\n",
      "<HDF5 dataset \"667\": shape (570, 66150), type \"<f4\">\n",
      "<HDF5 dataset \"676\": shape (570, 66150), type \"<f4\">\n",
      "<HDF5 dataset \"690\": shape (570, 66150), type \"<f4\">\n",
      "<HDF5 dataset \"694\": shape (570, 66150), type \"<f4\">\n",
      "<HDF5 dataset \"695\": shape (570, 66150), type \"<f4\">\n",
      "<HDF5 dataset \"704\": shape (570, 66150), type \"<f4\">\n",
      "<HDF5 dataset \"705\": shape (570, 66150), type \"<f4\">\n",
      "<HDF5 dataset \"706\": shape (571, 66150), type \"<f4\">\n",
      "<HDF5 dataset \"707\": shape (570, 66150), type \"<f4\">\n",
      "<HDF5 dataset \"708\": shape (570, 66150), type \"<f4\">\n",
      "<HDF5 dataset \"709\": shape (571, 66150), type \"<f4\">\n",
      "<HDF5 dataset \"714\": shape (570, 66150), type \"<f4\">\n",
      "<HDF5 dataset \"715\": shape (570, 66150), type \"<f4\">\n",
      "<HDF5 dataset \"716\": shape (570, 66150), type \"<f4\">\n",
      "<HDF5 dataset \"718\": shape (571, 66150), type \"<f4\">\n",
      "<HDF5 dataset \"777\": shape (570, 66150), type \"<f4\">\n",
      "<HDF5 dataset \"814\": shape (570, 66150), type \"<f4\">\n",
      "<HDF5 dataset \"821\": shape (571, 66150), type \"<f4\">\n",
      "<HDF5 dataset \"822\": shape (570, 66150), type \"<f4\">\n",
      "<HDF5 dataset \"825\": shape (570, 66150), type \"<f4\">\n"
     ]
    }
   ],
   "source": [
    "\n",
    "f = h5py.File(\"test.hdf5\", \"r\")\n",
    "for label in f:\n",
    "    print(f[label])"
   ]
  },
  {
   "cell_type": "code",
   "execution_count": 23,
   "metadata": {
    "collapsed": true
   },
   "outputs": [],
   "source": [
    "data = np.random.rand(10,10)\n",
    "dset = file.create_dataset(\"init\", data=data)\n"
   ]
  },
  {
   "cell_type": "code",
   "execution_count": 68,
   "metadata": {
    "collapsed": true
   },
   "outputs": [],
   "source": [
    "os.remove(\"test.hdf5\")"
   ]
  },
  {
   "cell_type": "code",
   "execution_count": 24,
   "metadata": {
    "collapsed": true
   },
   "outputs": [],
   "source": [
    "f = h5py.File(\"test.hdf5\", \"r\")\n",
    "dset = f['init']"
   ]
  },
  {
   "cell_type": "code",
   "execution_count": 25,
   "metadata": {
    "collapsed": true
   },
   "outputs": [],
   "source": [
    "f = h5py.File(\"test.hdf5\", \"a\")\n",
    "grp = f.create_group('subgroup')"
   ]
  },
  {
   "cell_type": "code",
   "execution_count": 26,
   "metadata": {
    "collapsed": true
   },
   "outputs": [],
   "source": [
    "dset2 = grp.create_dataset('another', data=np.random.rand(5,5)*10)"
   ]
  },
  {
   "cell_type": "code",
   "execution_count": 28,
   "metadata": {
    "collapsed": true
   },
   "outputs": [],
   "source": [
    "dset3 = f.create_dataset('subgroup2/hahadataset', data=np.random.rand(2,2)*100)"
   ]
  },
  {
   "cell_type": "code",
   "execution_count": null,
   "metadata": {
    "collapsed": true
   },
   "outputs": [],
   "source": []
  },
  {
   "cell_type": "code",
   "execution_count": null,
   "metadata": {
    "collapsed": true
   },
   "outputs": [],
   "source": []
  }
 ],
 "metadata": {
  "kernelspec": {
   "display_name": "Python 3",
   "language": "python",
   "name": "python3"
  },
  "language_info": {
   "codemirror_mode": {
    "name": "ipython",
    "version": 3
   },
   "file_extension": ".py",
   "mimetype": "text/x-python",
   "name": "python",
   "nbconvert_exporter": "python",
   "pygments_lexer": "ipython3",
   "version": "3.6.8"
  }
 },
 "nbformat": 4,
 "nbformat_minor": 2
}
